{
 "cells": [
  {
   "cell_type": "code",
   "execution_count": null,
   "metadata": {},
   "outputs": [],
   "source": [
    "# needed pkgs\n",
    "# !pip install pandas\n",
    "# !pip install sqlite3\n",
    "# !pip install lanchain\n",
    "# !pip install lanchain_experimental\n",
    "import sqlite3\n",
    "\n",
    "\n",
    "db_name = 'records.db'\n",
    "table_name = 'financial_records'\n",
    "csv_file = 'expenses.CSV'\n",
    "\n",
    "# Connect to database\n",
    "conn = sqlite3.connect('records.db')\n",
    "cursor = conn.cursor()\n",
    "\n",
    "# Drop table to rest \n",
    "drop_table_query = f'''DROP TABLE IF EXISTS  {table_name}'''\n",
    "cursor.execute(drop_table_query)\n",
    "#Create table\n",
    "create_table_query = f'''\n",
    "    CREATE TABLE IF NOT EXISTS {table_name} (\n",
    "        transaction_date TEXT,\n",
    "        post_date TEXT,\n",
    "        description TEXT,\n",
    "        category TEXT,\n",
    "        type TEXT,\n",
    "        amount INTEGER,\n",
    "        memo TEXT\n",
    "    );\n",
    "'''\n",
    "cursor.execute(create_table_query)"
   ]
  },
  {
   "cell_type": "code",
   "execution_count": null,
   "metadata": {},
   "outputs": [],
   "source": [
    "import pandas as pd\n",
    "\n",
    "#Read csv\n",
    "df = pd.read_csv(csv_file,encoding='ISO-8859-1')\n",
    "df.columns =['transaction_date', 'post_date', 'description', 'category',\n",
    "       'type', 'amount', 'memo']\n",
    "\n",
    "#Import the csv into database\n",
    "df.to_sql(table_name, conn, if_exists='append', index=False)\n",
    "conn.close()"
   ]
  },
  {
   "cell_type": "code",
   "execution_count": null,
   "metadata": {},
   "outputs": [],
   "source": [
    "# verify connection\n",
    "conn = sqlite3.connect('records.db')\n",
    "cursor = conn.cursor()\n",
    "# cursor.execute('SELECT * FROM financial_records LIMIT 1')\n",
    "cursor.execute('SELECT transaction_date, COUNT(*) AS count FROM financial_records GROUP BY transaction_date ORDER BY count DESC LIMIT 1')\n",
    "cursor.fetchall()\n",
    "conn.close()"
   ]
  },
  {
   "cell_type": "code",
   "execution_count": null,
   "metadata": {},
   "outputs": [],
   "source": [
    "import os \n",
    "api_key = os.environ[\"OPENAI_API_KEY\"]\n",
    "\n",
    "from langchain.llms import OpenAI\n",
    "from langchain.utilities import SQLDatabase\n",
    "from langchain_experimental.sql import SQLDatabaseChain\n",
    "db = SQLDatabase.from_uri(f\"sqlite:///{db_name}\")\n",
    "llm = OpenAI(temperature=0, verbose=True)\n",
    "db_chain = SQLDatabaseChain.from_llm(llm, db, verbose=True)"
   ]
  },
  {
   "cell_type": "code",
   "execution_count": null,
   "metadata": {},
   "outputs": [],
   "source": [
    "# db_chain.run('what is the most common value for transaction_date in the financial_records table?')\n",
    "# db_chain.run('What was the lowest amount? Please return the entire matching row')\n",
    "# db_chain.run('What was the highest amount? Please return the entire matching row')\n",
    "# db_chain.run('What was the most common description and total count?')\n",
    "# db_chain.run('what was the most common category and total count?')\n",
    "# total expenses\n",
    "# db_chain.run('please add all the amount value together and multiply that total by -1')\n",
    "db_chain.run(\"What category has the lowest amount total?\")\n",
    "# SELECT category, SUM(amount) AS total_amount FROM financial_records GROUP BY category ORDER BY total_amount ASC LIMIT 1\n",
    "# db_chain.run(\"What category has the higest amount total?\")\n",
    "# SELECT category, SUM(amount) AS total_amount FROM financial_records GROUP BY category ORDER BY total_amount DESC LIMIT 1"
   ]
  }
 ],
 "metadata": {
  "kernelspec": {
   "display_name": "app-0dKAvrDP-py3.11",
   "language": "python",
   "name": "python3"
  },
  "language_info": {
   "codemirror_mode": {
    "name": "ipython",
    "version": 3
   },
   "file_extension": ".py",
   "mimetype": "text/x-python",
   "name": "python",
   "nbconvert_exporter": "python",
   "pygments_lexer": "ipython3",
   "version": "3.11.7"
  }
 },
 "nbformat": 4,
 "nbformat_minor": 2
}
